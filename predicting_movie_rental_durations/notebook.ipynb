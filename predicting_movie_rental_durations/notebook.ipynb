{
 "cells": [
  {
   "cell_type": "markdown",
   "metadata": {},
   "source": [
    "![dvd_image](dvd_image.jpg)\n",
    "\n",
    "A DVD rental company needs your help! They want to figure out how many days a customer will rent a DVD for based on some features and has approached you for help. They want you to try out some regression models which will help predict the number of days a customer will rent a DVD for. The company wants a model which yeilds a MSE of 3 or less on a test set. The model you make will help the company become more efficient inventory planning.\n",
    "\n",
    "The data they provided is in the csv file `rental_info.csv`. It has the following features:\n",
    "- `\"rental_date\"`: The date (and time) the customer rents the DVD.\n",
    "- `\"return_date\"`: The date (and time) the customer returns the DVD.\n",
    "- `\"amount\"`: The amount paid by the customer for renting the DVD.\n",
    "- `\"amount_2\"`: The square of `\"amount\"`.\n",
    "- `\"rental_rate\"`: The rate at which the DVD is rented for.\n",
    "- `\"rental_rate_2\"`: The square of `\"rental_rate\"`.\n",
    "- `\"release_year\"`: The year the movie being rented was released.\n",
    "- `\"length\"`: Lenght of the movie being rented, in minuites.\n",
    "- `\"length_2\"`: The square of `\"length\"`.\n",
    "- `\"replacement_cost\"`: The amount it will cost the company to replace the DVD.\n",
    "- `\"special_features\"`: Any special features, for example trailers/deleted scenes that the DVD also has.\n",
    "- `\"NC-17\"`, `\"PG\"`, `\"PG-13\"`, `\"R\"`: These columns are dummy variables of the rating of the movie. It takes the value 1 if the move is rated as the column name and 0 otherwise. For your convinience, the reference dummy has already been dropped."
   ]
  },
  {
   "cell_type": "code",
   "execution_count": 1,
   "metadata": {
    "executionCancelledAt": null,
    "executionTime": 110,
    "lastExecutedAt": 1690545728457,
    "lastScheduledRunId": null,
    "lastSuccessfullyExecutedCode": "import pandas as pd\nimport numpy as np\n\nfrom sklearn.model_selection import train_test_split\nfrom sklearn.metrics import mean_squared_error\n\n# Import any additional modules and start coding below\ndf = pd.read_csv(\"rental_info.csv\")\n\ndf['rental_date'] = pd.to_datetime(df['rental_date'])\ndf['return_date'] = pd.to_datetime(df['return_date'])\n\ndf['rental_length_days'] = (df['return_date'] - df['rental_date']).dt.days\n\n\ndf['deleted_scenes'] = df['special_features'].str.contains('Deleted Scenes').astype(int)\ndf[\"behind_the_scenes\"] = df['special_features'].str.contains('Behind the Scenes').astype(int)\n\nX = df[[\"amount\",\"release_year\",\"rental_rate\",\"length\",\"replacement_cost\",\"NC-17\",\"PG\",\"PG-13\",\"R\",\"amount_2\",\"length_2\",\"rental_rate_2\",\"deleted_scenes\",\"behind_the_scenes\"]]\ny = df[\"rental_length_days\"]\nprint(y)\nX_train, X_test, y_train, y_test = train_test_split(X, y, test_size=0.2, random_state=9)\n\nfrom sklearn.tree import DecisionTreeRegressor\n\nbest_model = DecisionTreeRegressor(random_state=42)\n\nbest_model.fit(X_train, y_train)\ny_pred = best_model.predict(X_test)\nbest_mse = mean_squared_error(y_test, y_pred)\nprint(\"Mean Squared Error:\", mse)",
    "outputsMetadata": {
     "0": {
      "height": 270,
      "type": "stream"
     }
    }
   },
   "outputs": [],
   "source": [
    "import pandas as pd\n",
    "import numpy as np\n",
    "\n",
    "from sklearn.model_selection import train_test_split\n",
    "from sklearn.metrics import mean_squared_error\n",
    "\n"
   ]
  },
  {
   "cell_type": "code",
   "execution_count": 2,
   "metadata": {},
   "outputs": [],
   "source": [
    "# Import any additional modules and start coding below\n",
    "df = pd.read_csv(\"rental_info.csv\")\n"
   ]
  },
  {
   "cell_type": "code",
   "execution_count": 3,
   "metadata": {},
   "outputs": [],
   "source": [
    "df['rental_date'] = pd.to_datetime(df['rental_date'])\n",
    "df['return_date'] = pd.to_datetime(df['return_date'])\n"
   ]
  },
  {
   "cell_type": "code",
   "execution_count": 4,
   "metadata": {},
   "outputs": [],
   "source": [
    "df['rental_length_days'] = (df['return_date'] - df['rental_date']).dt.days"
   ]
  },
  {
   "cell_type": "code",
   "execution_count": 5,
   "metadata": {},
   "outputs": [],
   "source": [
    "\n",
    "\n",
    "df['deleted_scenes'] = df['special_features'].str.contains('Deleted Scenes').astype(int)\n",
    "df[\"behind_the_scenes\"] = df['special_features'].str.contains('Behind the Scenes').astype(int)"
   ]
  },
  {
   "cell_type": "code",
   "execution_count": 6,
   "metadata": {},
   "outputs": [],
   "source": [
    "X = df[[\"amount\",\"release_year\",\"rental_rate\",\"length\",\"replacement_cost\",\"NC-17\",\"PG\",\"PG-13\",\"R\",\"amount_2\",\"length_2\",\"rental_rate_2\",\"deleted_scenes\",\"behind_the_scenes\"]]\n",
    "y = df[\"rental_length_days\"]"
   ]
  },
  {
   "cell_type": "code",
   "execution_count": 7,
   "metadata": {},
   "outputs": [],
   "source": [
    "X_train, X_test, y_train, y_test = train_test_split(X, y, test_size=0.2, random_state=9)"
   ]
  },
  {
   "cell_type": "code",
   "execution_count": 9,
   "metadata": {},
   "outputs": [
    {
     "name": "stdout",
     "output_type": "stream",
     "text": [
      "Mean Squared Error: 2.1738560901787127\n"
     ]
    }
   ],
   "source": [
    "from sklearn.tree import DecisionTreeRegressor\n",
    "\n",
    "best_model = DecisionTreeRegressor(random_state=42)\n",
    "\n",
    "best_model.fit(X_train, y_train)\n",
    "y_pred = best_model.predict(X_test)\n",
    "best_mse = mean_squared_error(y_test, y_pred)\n",
    "print(\"Mean Squared Error:\", best_mse)"
   ]
  },
  {
   "cell_type": "code",
   "execution_count": null,
   "metadata": {},
   "outputs": [],
   "source": []
  }
 ],
 "metadata": {
  "colab": {
   "name": "Welcome to DataCamp Workspaces.ipynb",
   "provenance": []
  },
  "kernelspec": {
   "display_name": "Python 3",
   "language": "python",
   "name": "python3"
  },
  "language_info": {
   "codemirror_mode": {
    "name": "ipython",
    "version": 3
   },
   "file_extension": ".py",
   "mimetype": "text/x-python",
   "name": "python",
   "nbconvert_exporter": "python",
   "pygments_lexer": "ipython3",
   "version": "3.8.5"
  }
 },
 "nbformat": 4,
 "nbformat_minor": 5
}
